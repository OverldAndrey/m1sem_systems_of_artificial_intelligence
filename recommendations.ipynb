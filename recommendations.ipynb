{
 "cells": [
  {
   "cell_type": "code",
   "execution_count": 1,
   "metadata": {
    "collapsed": true,
    "pycharm": {
     "name": "#%%\n"
    }
   },
   "outputs": [],
   "source": [
    "import json\n",
    "\n",
    "with open(\"data.json\", \"r\") as read_file:\n",
    "    raw_json_data = json.load(read_file)"
   ]
  },
  {
   "cell_type": "code",
   "execution_count": 2,
   "outputs": [],
   "source": [
    "import pandas as pd\n",
    "from sklearn import preprocessing\n",
    "\n",
    "string_cols = ['tags', 'mixedGenres', 'genre', 'subgenre', 'name', 'album', 'performer']\n",
    "\n",
    "scaler = preprocessing.MinMaxScaler()\n",
    "\n",
    "def get_data_frame(tracks) -> pd.DataFrame:\n",
    "    return pd.DataFrame(tracks).drop(columns=string_cols)"
   ],
   "metadata": {
    "collapsed": false,
    "pycharm": {
     "name": "#%%\n"
    }
   }
  },
  {
   "cell_type": "code",
   "execution_count": 3,
   "outputs": [],
   "source": [
    "TAG_WEIGHT = 0.4\n",
    "GENRE_WEIGHT = 1\n",
    "SUBGENRE_WEIGHT = 0.8\n",
    "OTHER_WEIGHT = 0.8\n",
    "CORRWITH_METHOD = 'spearman'"
   ],
   "metadata": {
    "collapsed": false,
    "pycharm": {
     "name": "#%%\n"
    }
   }
  },
  {
   "cell_type": "code",
   "execution_count": 4,
   "outputs": [],
   "source": [
    "genres = raw_json_data['music']\n",
    "\n",
    "tracks = []\n",
    "\n",
    "for genre in genres:\n",
    "    genre_key = list(genre.keys())[0]\n",
    "    for subgenre in genre[genre_key]:\n",
    "        subgenre_key = list(subgenre.keys())[0]\n",
    "        for performer in subgenre[subgenre_key]:\n",
    "            performer_key = list(performer.keys())[0]\n",
    "            for track in performer[performer_key]:\n",
    "                track['mixedGenres'].append('{} {}'.format(subgenre_key, genre_key))\n",
    "                tracks.append(track)\n",
    "\n",
    "original_tracks = json.loads(json.dumps(tracks))"
   ],
   "metadata": {
    "collapsed": false,
    "pycharm": {
     "name": "#%%\n"
    }
   }
  },
  {
   "cell_type": "code",
   "execution_count": 5,
   "outputs": [],
   "source": [
    "genres_set = set()\n",
    "for track in tracks:\n",
    "    genres_set.add(track['genre'])\n",
    "\n",
    "mixed_genres_set = set()\n",
    "for track in tracks:\n",
    "    for g in track['mixedGenres']:\n",
    "        mixed_genres_set.add(g)\n",
    "\n",
    "tags_set = set()\n",
    "for track in tracks:\n",
    "    for t in track['tags']:\n",
    "        tags_set.add(t)\n",
    "\n",
    "performers_set = set()\n",
    "for track in tracks:\n",
    "    performers_set.add(track['performer'])\n",
    "\n",
    "albums_set = set()\n",
    "for track in tracks:\n",
    "    if track['album'] != 'single':\n",
    "        albums_set.add(track['album'])"
   ],
   "metadata": {
    "collapsed": false,
    "pycharm": {
     "name": "#%%\n"
    }
   }
  },
  {
   "cell_type": "code",
   "execution_count": 6,
   "outputs": [],
   "source": [
    "for track in tracks:\n",
    "    for genre in list(mixed_genres_set):\n",
    "        if genre in track['mixedGenres']:\n",
    "            track[genre] = 1\n",
    "        else:\n",
    "            track[genre] = 0\n",
    "\n",
    "    for genre in list(genres_set):\n",
    "        if genre == track['genre']:\n",
    "            track[genre] = 1\n",
    "        else:\n",
    "            track[genre] = 0\n",
    "\n",
    "    for tag in list(tags_set):\n",
    "        if tag in track['tags']:\n",
    "            track[tag] = 1\n",
    "        else:\n",
    "            track[tag] = 0\n",
    "\n",
    "    for performer in list(performers_set):\n",
    "        if performer == track['performer']:\n",
    "            track[performer] = 1\n",
    "        else:\n",
    "            track[performer] = 0\n",
    "\n",
    "    for album in list(albums_set):\n",
    "        if album == track['album']:\n",
    "            track[album] = 1\n",
    "        else:\n",
    "            track[album] = 0\n",
    "\n",
    "def weigh_columns(frame: pd.DataFrame):\n",
    "    for genre in list(mixed_genres_set):\n",
    "        frame[genre] = frame[genre] * GENRE_WEIGHT\n",
    "\n",
    "    for genre in list(genres_set):\n",
    "        frame[genre] = frame[genre] * SUBGENRE_WEIGHT\n",
    "\n",
    "    for tag in list(tags_set):\n",
    "        frame[tag] = frame[tag] * TAG_WEIGHT\n",
    "\n",
    "    return frame"
   ],
   "metadata": {
    "collapsed": false,
    "pycharm": {
     "name": "#%%\n"
    }
   }
  },
  {
   "cell_type": "code",
   "execution_count": 7,
   "outputs": [],
   "source": [
    "TRACKS_LENGTH = len(tracks)"
   ],
   "metadata": {
    "collapsed": false,
    "pycharm": {
     "name": "#%%\n"
    }
   }
  },
  {
   "cell_type": "code",
   "execution_count": 8,
   "outputs": [],
   "source": [
    "import math\n",
    "\n",
    "def take_nearest_tracks(input_track, performers, performer, result, n):\n",
    "    tracks = next(filter(lambda pf: list(pf.keys())[0] == performer, performers))[performer]\n",
    "    tracks = list(filter(lambda tr: not (tr['name'] == input_track['name'] and tr['performer'] == input_track['performer']), tracks))\n",
    "    tracks = list(filter(lambda tr: not tr in result, tracks))\n",
    "    if len(tracks) > n - len(result):\n",
    "        while len(tracks) > n - len(result): tracks.pop()\n",
    "\n",
    "    result.extend(tracks)\n",
    "\n",
    "    return result\n",
    "\n",
    "def take_nearest_performers(input_track, performers, result, n):\n",
    "    for performer in performers:\n",
    "        result = take_nearest_tracks(input_track, performers, list(performer.keys())[0], result, n)\n",
    "\n",
    "    return result\n",
    "\n",
    "def take_nearest_subgenres(input_track, subgenres, result, n):\n",
    "    for subgenre in subgenres:\n",
    "        new_subgenre = list(subgenre.keys())[0]\n",
    "        performers = next(filter(lambda sgn: list(sgn.keys())[0] == new_subgenre, subgenres))[new_subgenre]\n",
    "\n",
    "        result = take_nearest_performers(input_track, performers, result, n)\n",
    "\n",
    "    return result\n",
    "\n",
    "def search_tree(input_track, track_tree, n):\n",
    "    genre = input_track['genre']\n",
    "    subgenre = input_track['subgenre']\n",
    "    performer = input_track['performer']\n",
    "\n",
    "    result = []\n",
    "\n",
    "    genres = track_tree\n",
    "\n",
    "    subgenres = next(filter(lambda gn: list(gn.keys())[0] == genre, genres))[genre]\n",
    "    performers = next(filter(lambda sgn: list(sgn.keys())[0] == subgenre, subgenres))[subgenre]\n",
    "\n",
    "    result = take_nearest_tracks(input_track, performers, performer, result, n)\n",
    "\n",
    "    if len(result) < n:\n",
    "        result = take_nearest_performers(input_track, performers, result, n)\n",
    "\n",
    "        if len(result) < n:\n",
    "            result = take_nearest_subgenres(input_track, subgenres, result, n)\n",
    "\n",
    "            if len(result) < n:\n",
    "                for genre in genres:\n",
    "                    new_genre = list(genre.keys())[0]\n",
    "                    subgenres = next(filter(lambda gn: list(gn.keys())[0] == new_genre, genres))[new_genre]\n",
    "\n",
    "                    result = take_nearest_subgenres(input_track, subgenres, result, n)\n",
    "\n",
    "    # print(len(result))\n",
    "    return result\n",
    "\n",
    "def search_tree_multiple(tracks, track_tree, disliked, n):\n",
    "    addition_coef = 0\n",
    "    result = []\n",
    "\n",
    "    while (len(tracks) + n <= TRACKS_LENGTH and len(result) < n)\\\n",
    "            or (len(tracks) + n > TRACKS_LENGTH and len(result) < TRACKS_LENGTH - len(tracks)):\n",
    "        addition_coef = addition_coef + 1\n",
    "        result_tracks_sets = []\n",
    "        result = []\n",
    "        input_track_names = list(map(lambda t: t['name'], tracks))\n",
    "        for track in tracks:\n",
    "            result_tracks_sets.append(search_tree(track, track_tree, math.ceil(n / len(tracks)) + addition_coef))\n",
    "\n",
    "        for res_set in result_tracks_sets:\n",
    "            result.extend(res_set)\n",
    "            result = list(filter(lambda t: not t['name'] in input_track_names and not t['name'] in disliked, result))\n",
    "            filtered_result = []\n",
    "\n",
    "            for res_track in result:\n",
    "                if not res_track['name'] in list(map(lambda t: t['name'], filtered_result)):\n",
    "                    filtered_result.append(res_track)\n",
    "            result = filtered_result\n",
    "\n",
    "        while len(result) > n:\n",
    "            result.pop()\n",
    "\n",
    "    return result\n",
    "\n",
    "# tree_result = search_tree_multiple([\n",
    "#     tracks[0],\n",
    "#     tracks[1],\n",
    "#     tracks[2],\n",
    "#     tracks[3],\n",
    "#     tracks[4],\n",
    "#     tracks[5],\n",
    "#     tracks[6],\n",
    "#     tracks[7],\n",
    "#     tracks[8],\n",
    "#     tracks[9],\n",
    "#     tracks[10],\n",
    "#     tracks[11],\n",
    "#     tracks[12],\n",
    "#     tracks[13],\n",
    "#     tracks[14],\n",
    "#     tracks[15],\n",
    "#     # tracks[16]\n",
    "# ], genres, 5)\n",
    "# for res in tree_result:\n",
    "#     print(res['name'])"
   ],
   "metadata": {
    "collapsed": false,
    "pycharm": {
     "name": "#%%\n"
    }
   }
  },
  {
   "cell_type": "code",
   "execution_count": 9,
   "outputs": [],
   "source": [
    "def find_correlations(input_tracks, all_tracks):\n",
    "    result = []\n",
    "    for track in input_tracks:\n",
    "        tr_keys = ['name', 'genre', 'subgenre', 'performer']\n",
    "        tr_result = dict()\n",
    "        tr_result['track'] = {x:track[x] for x in tr_keys}\n",
    "        corr_results = []\n",
    "        tr_frame = get_data_frame([track])\n",
    "\n",
    "        for i in range(len(all_tracks)):\n",
    "            corr_res = dict()\n",
    "            corr_res['track'] = {x:all_tracks[i][x] for x in tr_keys}\n",
    "            corr_track = get_data_frame([all_tracks[i]])\n",
    "            corr_res[CORRWITH_METHOD] = tr_frame.corrwith(corr_track, axis=1, method=CORRWITH_METHOD).to_list()[0]\n",
    "            corr_res['chebyshev'] = pairwise_distances(tr_frame, corr_track, metric='chebyshev')[0][0]\n",
    "            corr_res['manhattan'] = pairwise_distances(tr_frame, corr_track, metric='manhattan')[0][0]\n",
    "            corr_res['euclidean'] = pairwise_distances(tr_frame, corr_track, metric='euclidean')[0][0]\n",
    "            corr_res['cosine'] = pairwise_distances(tr_frame, corr_track, metric='cosine')[0][0]\n",
    "            print(corr_res['track']['name'], corr_res[CORRWITH_METHOD], corr_res['chebyshev'], corr_res['manhattan'], corr_res['euclidean'], corr_res['cosine'])\n",
    "\n",
    "            corr_results.append(corr_res)\n",
    "\n",
    "        tr_result['correlation'] = corr_results\n",
    "        result.append(tr_result)\n",
    "\n",
    "    return result"
   ],
   "metadata": {
    "collapsed": false,
    "pycharm": {
     "name": "#%%\n"
    }
   }
  },
  {
   "cell_type": "code",
   "execution_count": 10,
   "outputs": [],
   "source": [
    "from sklearn.metrics.pairwise import pairwise_distances, paired_distances\n",
    "\n",
    "# tracks_frame = pd.DataFrame(tracks)\n",
    "# tracks_filtered = tracks_frame.drop(columns=['tags', 'mixedGenres', 'genre', 'subgenre'])\n",
    "# print(tracks_filtered.corr())\n",
    "tracks_frame = get_data_frame(tracks)\n",
    "tracks_str_cols = pd.DataFrame(tracks, columns=string_cols)\n",
    "tracks_frame = pd.DataFrame(scaler.fit_transform(tracks_frame), columns=tracks_frame.columns)\n",
    "tracks_frame = weigh_columns(tracks_frame)\n",
    "for col in list(tracks_frame.columns.values):\n",
    "    tracks_frame[col] = tracks_frame[col] * OTHER_WEIGHT\n",
    "tracks_frame = pd.concat([tracks_frame, tracks_str_cols], axis=1)\n",
    "normalized_tracks = tracks_frame.to_dict('records')\n",
    "# print(tracks_frame)"
   ],
   "metadata": {
    "collapsed": false,
    "pycharm": {
     "name": "#%%\n"
    }
   }
  },
  {
   "cell_type": "code",
   "execution_count": 11,
   "outputs": [],
   "source": [
    "import ipywidgets as widgets\n",
    "from ipywidgets import interact, interact_manual\n",
    "from IPython.display import display"
   ],
   "metadata": {
    "collapsed": false,
    "pycharm": {
     "name": "#%%\n"
    }
   }
  },
  {
   "cell_type": "code",
   "execution_count": 12,
   "outputs": [
    {
     "data": {
      "text/plain": "interactive(children=(SelectMultiple(description='input_tracks', options=(('I Come With Knives', {'length': 0.…",
      "application/vnd.jupyter.widget-view+json": {
       "version_major": 2,
       "version_minor": 0,
       "model_id": "ba491dcd38e94756b09ceccc82861778"
      }
     },
     "metadata": {},
     "output_type": "display_data"
    },
    {
     "data": {
      "text/plain": "<function __main__.choose_tracks(input_tracks, n, method, disliked)>"
     },
     "execution_count": 12,
     "metadata": {},
     "output_type": "execute_result"
    }
   ],
   "source": [
    "correlation_methods = [\n",
    "    CORRWITH_METHOD,\n",
    "    'manhattan',\n",
    "    'euclidean',\n",
    "    'cosine',\n",
    "    'tree',\n",
    "]\n",
    "\n",
    "def choose_tracks(input_tracks, n, method, disliked):\n",
    "    # print(find_correlations(input_tracks, normalized_tracks))\n",
    "    disliked_names = list(map(lambda t: t['name'], disliked))\n",
    "\n",
    "    if method == 'tree':\n",
    "        return list(map(lambda t: t['name'], search_tree_multiple(input_tracks, genres, disliked_names, n)))\n",
    "\n",
    "    input_track_names = list(map(lambda t: t['name'], input_tracks))\n",
    "\n",
    "    correlations = find_correlations(input_tracks, normalized_tracks)\n",
    "    sum_correlations = dict()\n",
    "    for correlation in correlations:\n",
    "        correlation['correlation'] = list(filter(lambda c: c['track']['name'] not in input_track_names, correlation['correlation']))\n",
    "\n",
    "        for corr_result in correlation['correlation']:\n",
    "            if corr_result['track']['name'] not in list(sum_correlations.keys()):\n",
    "                sum_correlations[corr_result['track']['name']] = 0\n",
    "            sum_correlations[corr_result['track']['name']] = sum_correlations[corr_result['track']['name']] + corr_result[method]\n",
    "\n",
    "    for track_name in list(sum_correlations.keys()):\n",
    "        if track_name in disliked_names:\n",
    "            if method == CORRWITH_METHOD:\n",
    "                sum_correlations[track_name] = 0\n",
    "            else:\n",
    "                sum_correlations[track_name] = 1\n",
    "        else:\n",
    "            sum_correlations[track_name] = sum_correlations[track_name] / len(input_tracks)\n",
    "\n",
    "    result = []\n",
    "    nres = min(n, TRACKS_LENGTH - len(input_tracks))\n",
    "    if method == CORRWITH_METHOD:\n",
    "        for i in range(nres):\n",
    "            max_corr_name, max_corr = max(list(filter(lambda c: c[0] not in result, list(sum_correlations.items()))), key=lambda c: c[1])\n",
    "\n",
    "            result.append(max_corr_name)\n",
    "    else:\n",
    "        for i in range(nres):\n",
    "            max_corr_name, max_corr = min(list(filter(lambda c: c[0] not in result, list(sum_correlations.items()))), key=lambda c: c[1])\n",
    "\n",
    "            result.append(max_corr_name)\n",
    "\n",
    "    for res in result:\n",
    "        display(res)\n",
    "\n",
    "    # return result\n",
    "\n",
    "track_fields = list(map(lambda t: (t['name'], t), normalized_tracks))\n",
    "interact(\n",
    "    choose_tracks,\n",
    "    input_tracks=widgets.SelectMultiple(options=track_fields),\n",
    "    n=widgets.IntSlider(min=1, max=10, step=1, value=5),\n",
    "    method=widgets.Select(options=correlation_methods, value=CORRWITH_METHOD),\n",
    "    disliked=widgets.SelectMultiple(options=track_fields),\n",
    ")\n"
   ],
   "metadata": {
    "collapsed": false,
    "pycharm": {
     "name": "#%%\n"
    }
   }
  },
  {
   "cell_type": "code",
   "execution_count": 13,
   "outputs": [
    {
     "data": {
      "text/plain": "interactive(children=(Text(value='', description='text_param'), IntRangeSlider(value=(200, 400), description='…",
      "application/vnd.jupyter.widget-view+json": {
       "version_major": 2,
       "version_minor": 0,
       "model_id": "4980e49af9874409b3a2bfbe23749f3d"
      }
     },
     "metadata": {},
     "output_type": "display_data"
    },
    {
     "data": {
      "text/plain": "<function __main__.parametrized_search(text_param: str, min_max_len, min_likes, max_likes, min_listens, max_listens, tags, genres, performers, albums, explicit_true, explicit_false, vocals_true, vocals_false)>"
     },
     "execution_count": 13,
     "metadata": {},
     "output_type": "execute_result"
    }
   ],
   "source": [
    "def check_track(\n",
    "        track,\n",
    "        text_param,\n",
    "        min_len, max_len,\n",
    "        min_likes, max_likes,\n",
    "        min_listens, max_listens,\n",
    "        tags,\n",
    "        genres,\n",
    "        performers,\n",
    "        albums,\n",
    "        explicit_true,\n",
    "        explicit_false,\n",
    "        vocals_true,\n",
    "        vocals_false\n",
    "):\n",
    "    return min_len <= track['length'] <= max_len\\\n",
    "           and min_likes <= track['likes'] <= max_likes\\\n",
    "           and min_listens <= track['listens'] <= max_listens\\\n",
    "           and (len(tags) == 0 or any(tag in track['tags'] for tag in tags))\\\n",
    "           and (len(genres) == 0 or any(g in track['mixedGenres'] for g in genres))\\\n",
    "           and (len(performers) == 0 or track['performer'] in performers)\\\n",
    "           and (len(albums) == 0 or track['album'] in albums)\\\n",
    "           and (track['explicit'] and explicit_true or not track['explicit'] and explicit_false)\\\n",
    "           and (track['vocals'] and vocals_true or not track['vocals'] and vocals_false)\\\n",
    "           and (len(text_param) == 0\n",
    "                or text_param in track['name'].lower()\n",
    "                or text_param in track['performer'].lower()\n",
    "                or text_param in track['album'].lower())\n",
    "\n",
    "def parametrized_search(\n",
    "        text_param: str,\n",
    "        min_max_len,\n",
    "        min_likes, max_likes,\n",
    "        min_listens, max_listens,\n",
    "        tags,\n",
    "        genres,\n",
    "        performers,\n",
    "        albums,\n",
    "        explicit_true,\n",
    "        explicit_false,\n",
    "        vocals_true,\n",
    "        vocals_false,\n",
    "):\n",
    "    min_len, max_len = min_max_len\n",
    "    text_param = text_param.lower()\n",
    "    search_result = list(map(lambda t: t['name'],\n",
    "        filter(\n",
    "            lambda t: check_track(t,\n",
    "                text_param,\n",
    "                min_len, max_len,\n",
    "                min_likes, max_likes,\n",
    "                min_listens, max_listens,\n",
    "                tags,\n",
    "                genres,\n",
    "                performers,\n",
    "                albums,\n",
    "                explicit_true,\n",
    "                explicit_false,\n",
    "                vocals_true,\n",
    "                vocals_false),\n",
    "            tracks\n",
    "        )\n",
    "    ))\n",
    "\n",
    "    if len(search_result) == 0:\n",
    "        display('Couldn`t find anything, but you might like these:')\n",
    "\n",
    "    # while len(search_result) == 0:\n",
    "    #     min_len, max_len = min_len - 10, max_len + 10\n",
    "    #     min_likes, max_likes = min_likes - 10, max_likes + 1000\n",
    "    #     min_listens, max_listens = min_listens - 10, max_listens + 5000\n",
    "    #     text_param = text_param[:-1]\n",
    "    #\n",
    "    #     search_result = list(map(lambda t: t['name'],\n",
    "    #     filter(\n",
    "    #         lambda t: check_track(t,\n",
    "    #             text_param,\n",
    "    #             min_len, max_len,\n",
    "    #             min_likes, max_likes,\n",
    "    #             min_listens, max_listens,\n",
    "    #             [],\n",
    "    #             [],\n",
    "    #             True,\n",
    "    #             True,\n",
    "    #             True,\n",
    "    #             True),\n",
    "    #         tracks\n",
    "    #     )\n",
    "    # ))\n",
    "    if len(search_result) == 0:\n",
    "        track = dict()\n",
    "        track['name'] = 'sample'\n",
    "        track['genre'] = 'sample'\n",
    "        track['subgenre'] = 'sample'\n",
    "        track['mixedGenres'] = genres\n",
    "        track['performer'] = 'sample'\n",
    "        track['album'] = 'single'\n",
    "        track['length'] = (min_len + max_len) / 2 * OTHER_WEIGHT\n",
    "        track['explicit'] = 1 * OTHER_WEIGHT if explicit_true else 0\n",
    "        track['listens'] = (min_listens + max_listens) / 2 * OTHER_WEIGHT\n",
    "        track['likes'] = (min_likes + max_likes) / 2 * OTHER_WEIGHT\n",
    "        track['tags'] = tags\n",
    "        track['vocals'] = 1 * OTHER_WEIGHT if vocals_true else 0\n",
    "\n",
    "        for genre in list(mixed_genres_set):\n",
    "            if genre in genres:\n",
    "                track[genre] = 1 * SUBGENRE_WEIGHT\n",
    "            else:\n",
    "                track[genre] = 0\n",
    "\n",
    "        for genre in list(genres_set):\n",
    "            if genre == track['genre']:\n",
    "                track[genre] = 1 * GENRE_WEIGHT\n",
    "            else:\n",
    "                track[genre] = 0\n",
    "\n",
    "        for tag in list(tags_set):\n",
    "            if tag in tags:\n",
    "                track[tag] = 1 * TAG_WEIGHT\n",
    "            else:\n",
    "                track[tag] = 0\n",
    "\n",
    "        for performer in list(performers_set):\n",
    "            if performer in performers:\n",
    "                track[performer] = 1\n",
    "            else:\n",
    "                track[performer] = 0\n",
    "\n",
    "        for album in list(albums_set):\n",
    "            if album in albums:\n",
    "                track[album] = 1\n",
    "            else:\n",
    "                track[album] = 0\n",
    "\n",
    "        search_result = choose_tracks((track,), 3, CORRWITH_METHOD, [])\n",
    "    else:\n",
    "        for res in search_result:\n",
    "            display(res)\n",
    "    # return search_result\n",
    "\n",
    "interact(\n",
    "    parametrized_search,\n",
    "    text_param=widgets.Text(),\n",
    "    min_max_len=widgets.IntRangeSlider(min=100, max=1000, value=[200, 400]),\n",
    "    min_likes=widgets.IntText(value=100),\n",
    "    max_likes=widgets.IntText(value=1000000),\n",
    "    min_listens=widgets.IntText(value=100),\n",
    "    max_listens=widgets.IntText(value=1000000000),\n",
    "    tags=widgets.SelectMultiple(options=tags_set),\n",
    "    genres=widgets.SelectMultiple(options=mixed_genres_set),\n",
    "    performers=widgets.SelectMultiple(options=performers_set),\n",
    "    albums=widgets.SelectMultiple(options=albums_set),\n",
    "    explicit_true=widgets.Checkbox(value=True),\n",
    "    explicit_false=widgets.Checkbox(value=True),\n",
    "    vocals_true=widgets.Checkbox(value=True),\n",
    "    vocals_false=widgets.Checkbox(value=True),\n",
    ")"
   ],
   "metadata": {
    "collapsed": false,
    "pycharm": {
     "name": "#%%\n"
    }
   }
  }
 ],
 "metadata": {
  "kernelspec": {
   "display_name": "Python 3",
   "language": "python",
   "name": "python3"
  },
  "language_info": {
   "codemirror_mode": {
    "name": "ipython",
    "version": 2
   },
   "file_extension": ".py",
   "mimetype": "text/x-python",
   "name": "python",
   "nbconvert_exporter": "python",
   "pygments_lexer": "ipython2",
   "version": "2.7.6"
  }
 },
 "nbformat": 4,
 "nbformat_minor": 0
}