{
 "cells": [
  {
   "cell_type": "code",
   "execution_count": 41,
   "metadata": {
    "collapsed": true
   },
   "outputs": [],
   "source": [
    "from math import exp, fabs\n",
    "from random import random, choices\n",
    "\n",
    "F = 20\n",
    "NARGS = 8\n",
    "GENSIZE = 20\n",
    "MUTATION_PROB = 0.4\n",
    "\n",
    "def f(args):\n",
    "    return 2 * args[0] - 5 * args[1] / args[2] + args[3] ** 2 \\\n",
    "           - 1.4 ** args[4] + 3 * exp(args[5] / (args[6] + args[7]))"
   ]
  },
  {
   "cell_type": "code",
   "execution_count": 42,
   "outputs": [],
   "source": [
    "def find_survivability_coeffs(generation):\n",
    "    return list(map(lambda g: fabs(f(g) - 20), generation))\n",
    "\n",
    "def find_reverse_coeffs(coeffs):\n",
    "    return list(map(lambda c: 1 / c, coeffs))\n",
    "\n",
    "def find_choose_probabilities(rev_coeffs, rev_sum):\n",
    "    return list(map(lambda c: c / rev_sum, rev_coeffs))\n",
    "\n",
    "def find_best_gen(generation, coeffs):\n",
    "    index = coeffs.index(min(coeffs))\n",
    "    return generation[index]\n",
    "\n",
    "def check_success(generation):\n",
    "    return abs(min(find_survivability_coeffs(generation))) < 0.001\n",
    "\n",
    "def get_successful_gen(generation):\n",
    "    coeffs = find_survivability_coeffs(generation)\n",
    "    index = coeffs.index(min(coeffs))\n",
    "    return generation[index]"
   ],
   "metadata": {
    "collapsed": false,
    "pycharm": {
     "name": "#%%\n"
    }
   }
  },
  {
   "cell_type": "code",
   "execution_count": 43,
   "outputs": [],
   "source": [
    "generation = [\n",
    "    [random() * 9 + 1 for i in range(NARGS)] for j in range(GENSIZE)\n",
    "]"
   ],
   "metadata": {
    "collapsed": false,
    "pycharm": {
     "name": "#%%\n"
    }
   }
  },
  {
   "cell_type": "code",
   "execution_count": 44,
   "outputs": [
    {
     "name": "stdout",
     "output_type": "stream",
     "text": [
      "[7.230483437449277, 3.0938666666823065, 5.072027568431726, 2.503063057307207, 5.262884300541097, 8.903818208750677, 3.9239572384924473, 3.680759333183751]\n",
      "[7.230483437449277, 5.795835043595416, 7.573864771059118, 2.503063057307207, 5.262884300541097, 4.205332392993409, 7.133917385100462, 5.368779324393674]\n",
      "[8.883708522021779, 7.338750333344853, 5.072027568431726, 2.503063057307207, 9.452939366159544, 4.205332392993409, 8.059559794512188, 5.368779324393674]\n",
      "[8.555284683658586, 5.005961143737821, 5.072027568431726, 2.503063057307207, 5.927789896442109, 4.205332392993409, 4.6878828810224835, 5.368779324393674]\n",
      "[1.2462162465440971, 1.6323829066693305, 9.574200053121187, 2.503063057307207, 5.262884300541097, 9.42807769078219, 5.555323096412119, 5.368779324393674]\n",
      "[8.882386820440338, 5.795835043595416, 5.612065567248928, 2.503063057307207, 7.612868420813737, 6.401623794041498, 8.140990984854497, 3.680759333183751]\n",
      "[8.871162211248965, 2.361487051899272, 6.677709250250527, 2.503063057307207, 8.932648086137924, 3.2420895477801883, 5.555323096412119, 3.680759333183751]\n",
      "[7.230483437449277, 2.641109298683195, 5.072027568431726, 2.503063057307207, 5.262884300541097, 8.031508350052992, 7.802187599849701, 5.368779324393674]\n",
      "[8.871162211248965, 4.970366194089284, 9.104807566316117, 2.503063057307207, 7.890053651226476, 4.144031280937685, 2.899410180868221, 5.368779324393674]\n",
      "[1.7549788568097027, 2.361487051899272, 9.574200053121187, 2.503063057307207, 5.262884300541097, 8.903818208750677, 3.482194992460804, 5.368779324393674]\n",
      "[7.230483437449277, 5.795835043595416, 1.6438238092778623, 6.041727324554408, 5.262884300541097, 8.903818208750677, 5.555323096412119, 4.55743849878977]\n",
      "[7.230483437449277, 2.361487051899272, 7.006359894974519, 2.503063057307207, 5.262884300541097, 8.903818208750677, 7.133917385100462, 3.680759333183751]\n",
      "[7.230483437449277, 5.011256058104588, 5.072027568431726, 7.8502825410975925, 5.262884300541097, 4.205332392993409, 5.2524330218649204, 4.723325554268592]\n",
      "[2.0079840584353477, 5.673330819390911, 5.072027568431726, 2.503063057307207, 5.262884300541097, 7.836962692117656, 7.133917385100462, 3.4455220270088636]\n",
      "[8.871162211248965, 8.109640095269143, 5.072027568431726, 2.503063057307207, 9.921939045198013, 3.2801154067306983, 8.402335597500645, 5.368779324393674]\n",
      "[8.871162211248965, 5.005961143737821, 9.104807566316117, 2.503063057307207, 5.262884300541097, 7.239026065799618, 1.8611778585005894, 5.368779324393674]\n",
      "[6.827441667848368, 5.843310752345535, 2.037136875360006, 2.503063057307207, 9.495679457070278, 4.205332392993409, 7.547055387513305, 7.318703846988834]\n",
      "[4.1402433978785185, 8.263148263210946, 3.523781760503473, 3.7053887553428075, 2.1302521860557437, 4.205332392993409, 7.133917385100462, 7.639764104739305]\n",
      "[1.4970397509281017, 8.632376934389022, 7.628920067634818, 2.503063057307207, 7.527327641666208, 4.205332392993409, 7.133917385100462, 6.598354552328431]\n",
      "[8.871162211248965, 2.361487051899272, 5.072027568431726, 2.503063057307207, 5.262884300541097, 4.205332392993409, 7.133917385100462, 5.368779324393674]\n",
      "\n",
      "[7.230483437449277, 2.361487051899272, 7.006359894974519, 2.503063057307207, 5.262884300541097, 8.903818208750677, 7.133917385100462, 3.680759333183751]\n"
     ]
    }
   ],
   "source": [
    "# for z in range(30):\n",
    "while not check_success(generation):\n",
    "    coeffs = find_survivability_coeffs(generation)\n",
    "    reverse_coeffs = find_reverse_coeffs(coeffs)\n",
    "    rev_sum = sum(reverse_coeffs)\n",
    "    probabilities = find_choose_probabilities(reverse_coeffs, rev_sum)\n",
    "\n",
    "    pairs = []\n",
    "    for i in range(GENSIZE - 1):\n",
    "        choosen = choices(generation, weights=probabilities, k=2)\n",
    "        while choosen[0] == choosen[1]:\n",
    "            choosen = choices(generation, weights=probabilities, k=2)\n",
    "        pairs.append(choosen)\n",
    "\n",
    "    new_generation = []\n",
    "    for pair in pairs:\n",
    "        new_gen = []\n",
    "        for i in range(NARGS):\n",
    "            retain_prob = random()\n",
    "            new_gen.append(pair[choices([0, 1], weights=[retain_prob, 1 - retain_prob])[0]][i])\n",
    "\n",
    "            if random() < MUTATION_PROB:\n",
    "                new_gen[i] = random() * 9 + 1\n",
    "\n",
    "        new_generation.append(new_gen)\n",
    "    new_generation.append(find_best_gen(generation, coeffs))\n",
    "\n",
    "    generation = new_generation\n",
    "\n",
    "for gen in generation:\n",
    "    print(gen)\n",
    "print('')\n",
    "print(get_successful_gen(generation))"
   ],
   "metadata": {
    "collapsed": false,
    "pycharm": {
     "name": "#%%\n"
    }
   }
  }
 ],
 "metadata": {
  "kernelspec": {
   "display_name": "Python 3",
   "language": "python",
   "name": "python3"
  },
  "language_info": {
   "codemirror_mode": {
    "name": "ipython",
    "version": 2
   },
   "file_extension": ".py",
   "mimetype": "text/x-python",
   "name": "python",
   "nbconvert_exporter": "python",
   "pygments_lexer": "ipython2",
   "version": "2.7.6"
  }
 },
 "nbformat": 4,
 "nbformat_minor": 0
}